{
 "cells": [
  {
   "cell_type": "markdown",
   "metadata": {},
   "source": [
    "# Assignment - Antti Viljakainen"
   ]
  },
  {
   "cell_type": "markdown",
   "metadata": {},
   "source": [
    "## Tehtävä 1"
   ]
  },
  {
   "cell_type": "markdown",
   "metadata": {},
   "source": [
    "Optimoitava funktio on muotoa $\\max a1 + a2$, jossa $a1$ on alla olevan neliön ala ja $a2$ puolikkaan ympyrän ala. Jos $x_1$ on neliön kanta ja $x_2$ sen sivu, sen ala olisi luonnollisesti $x_1x_2$, mutta on helpompaa jakaa $x_1$ kahteen puolikkaaseen, jolloin ympyrän ala on helpompi laskea, eli neliön ala on $2x_1x_2$. Puoliympyrän ala on $\\frac12\\pi x_1^2$. Rajoite-epäyhtälöllä otetaan huomioon käytettävissä olevan materiaalin määrä neliön kolmen sivun ja puoliympyrän kaaren mukaan $2x_1+2x_2+\\pi x_1 \\leq 12$"
   ]
  },
  {
   "cell_type": "markdown",
   "metadata": {},
   "source": [
    "Optimointitehtävä kokonaisuudessaan on siis\n",
    "$$\n",
    "\\max \\frac12\\pi x_1^2 + 2x_1x_2\\\\\n",
    "\\text{s.t. }2x_1+2x_2+\\pi x_1 \\leq 12\n",
    "$$\n",
    "Ja koska yleensä halutaan minimoida, saadaan\n",
    "$$\n",
    "\\min -\\frac12\\pi x_1^2 - 2x_1x_2\\\\\n",
    "\\text{s.t. }-2x_1-2x_2-\\pi x_1 \\geq -12\n",
    "$$"
   ]
  },
  {
   "cell_type": "code",
   "execution_count": 1,
   "metadata": {
    "collapsed": false
   },
   "outputs": [],
   "source": [
    "from math import pi\n",
    "def f_constrained(x):\n",
    "    return -0.5 * pi * x[0] ** 2 - 2 * x[0] * x[1], [12 -2 * x[0] - 2 * x[1] - pi * x[0]], []\n",
    "\n",
    "def alpha(x,f):\n",
    "    (_,ieq,eq) = f(x)\n",
    "    return sum([min([0,ieq_j])**2 for ieq_j in ieq])+sum([eq_k**2 for eq_k in eq])\n",
    "\n",
    "def f_penalized(f, x, r):\n",
    "    return f(x)[0] + r * alpha(x, f)"
   ]
  },
  {
   "cell_type": "code",
   "execution_count": 2,
   "metadata": {
    "collapsed": false
   },
   "outputs": [
    {
     "name": "stdout",
     "output_type": "stream",
     "text": [
      "Optimization terminated successfully.\n",
      "         Current function value: -10.081792\n",
      "         Iterations: 138\n",
      "         Function evaluations: 264\n",
      "[ 1.68028702  1.68032849]\n"
     ]
    }
   ],
   "source": [
    "from scipy.optimize import minimize\n",
    "res = minimize(lambda x : f_penalized(f_constrained, x, 100000),\n",
    "               [0, 0], method = 'Nelder-Mead', options={'disp': True})\n",
    "print(res.x)"
   ]
  },
  {
   "cell_type": "code",
   "execution_count": 3,
   "metadata": {
    "collapsed": false
   },
   "outputs": [
    {
     "data": {
      "text/plain": [
       "(-10.081798850008376, [-8.3837994102609059e-06], [])"
      ]
     },
     "execution_count": 3,
     "metadata": {},
     "output_type": "execute_result"
    }
   ],
   "source": [
    "f_constrained(res.x)"
   ]
  },
  {
   "cell_type": "code",
   "execution_count": 4,
   "metadata": {
    "collapsed": false
   },
   "outputs": [],
   "source": [
    "from pyomo.environ import *\n",
    "from math import pi\n",
    "\n",
    "model = ConcreteModel()\n",
    "model.x = Var([1, 2], domain = NonNegativeReals)\n",
    "model.OBJ = Objective(expr = -0.5 * pi * model.x[1] ** 2 - 2 * model.x[1] * model.x[2])\n",
    "model.Constraint1 = Constraint(expr = -2 * model.x[1] - 2 * model.x[2] - pi * model.x[1] >= -12)"
   ]
  },
  {
   "cell_type": "code",
   "execution_count": 5,
   "metadata": {
    "collapsed": false
   },
   "outputs": [
    {
     "name": "stdout",
     "output_type": "stream",
     "text": [
      "x : Size=2, Index=x_index, Domain=NonNegativeReals\n",
      "    Key : Lower : Value              : Upper : Fixed : Stale\n",
      "      1 :     0 :  1.680297476800643 :  None : False : False\n",
      "      2 :     0 : 1.6802974779724507 :  None : False : False\n"
     ]
    }
   ],
   "source": [
    "opt = SolverFactory(\"ipopt\", solver_io = \"nl\")\n",
    "opt.solve(model, tee = False)\n",
    "\n",
    "model.x.display()"
   ]
  },
  {
   "cell_type": "markdown",
   "metadata": {},
   "source": [
    "Optimointiongelman ratkaisu on, että ikkunan leveys on 1.68 * 2 = 3.36m ja korkeus (kaaren yläreunaan) = 1.68 (neliön korkeus) + 1.68 (kaaren säde) = 3.36 metriä. Näin ollen ikkunan pinta-ala on noin 10m2. Samaan ratkaisuun päästään sekä ipopt:a käyttäen, että simppelillä penalty-funktioidealla."
   ]
  },
  {
   "cell_type": "markdown",
   "metadata": {},
   "source": [
    "## Tehtävä 2"
   ]
  },
  {
   "cell_type": "markdown",
   "metadata": {},
   "source": [
    "Koska on kyse rajoitteettomasta optimointitehtävästä, voidaan rajata käytettävistä algoritmeista pois sellaiset, jotka erikoistuvat rajoittellisten optimointitehtävien ratkaisemiseen. Nelder-Mead on tässä tapauksessa mielenkiintoinen valinta verrokiksi, koska se perustuu pelkän objektifunktion arvon tarkastelemiseen. Muiksi verrokeiksi valitsin Powell:n, BFGS:n ja Newton-CG:n."
   ]
  },
  {
   "cell_type": "code",
   "execution_count": 6,
   "metadata": {
    "collapsed": false
   },
   "outputs": [],
   "source": [
    "def rosenbrock(x):\n",
    "    rsum = 0\n",
    "    for i in range(0, len(x) - 1):\n",
    "        rsum += 100 * (x[i + 1] - x[i] ** 2) ** 2 + (1 - x[i]) ** 2\n",
    "    return rsum\n",
    "\n",
    "def rosenbrock_gradient(x):\n",
    "    return ad.gh(rosenbrock)[0](x);"
   ]
  },
  {
   "cell_type": "code",
   "execution_count": 7,
   "metadata": {
    "collapsed": false
   },
   "outputs": [
    {
     "name": "stdout",
     "output_type": "stream",
     "text": [
      "Test rosenbrock:  0\n"
     ]
    }
   ],
   "source": [
    "print(\"Test rosenbrock: \", rosenbrock([1, 1, 1, 1, 1, 1, 1, 1, 1, 1]))"
   ]
  },
  {
   "cell_type": "code",
   "execution_count": 8,
   "metadata": {
    "collapsed": false
   },
   "outputs": [],
   "source": [
    "from scipy.optimize import minimize\n",
    "import ad\n",
    "import time\n",
    "\n",
    "initial_x = [0, 0, 0, 0, 0, 0, 0, 0, 0, 0]\n",
    "display = False\n",
    "\n",
    "start = time.clock()\n",
    "res_nm = minimize(rosenbrock, initial_x, method = 'Nelder-Mead', options = { 'disp' : display })\n",
    "res_nm.runtime = time.clock() - start\n",
    "\n",
    "start = time.clock()\n",
    "res_pow = minimize(rosenbrock, initial_x, method = 'Powell', options = { 'disp' : display })\n",
    "res_pow.runtime = time.clock() - start\n",
    "\n",
    "start = time.clock()\n",
    "res_ncg = minimize(rosenbrock, initial_x, method = 'Newton-CG', jac = lambda x: rosenbrock_gradient(x), options = { 'disp' : display })\n",
    "res_ncg.runtime = time.clock() - start\n",
    "\n",
    "start = time.clock()\n",
    "res_bfgs = minimize(rosenbrock, initial_x, method = 'BFGS', jac = lambda x: rosenbrock_gradient(x), options = { 'disp' : display })\n",
    "res_bfgs.runtime = time.clock() - start\n",
    "\n",
    "res_nm[\"method\"] = \"Nelder-Mead\"\n",
    "res_pow[\"method\"] = \"Powell\"\n",
    "res_ncg[\"method\"] = \"Newton-CG\"\n",
    "res_bfgs[\"method\"] = \"BFGS\"\n",
    "\n",
    "res = [res_nm, res_pow, res_ncg, res_bfgs]"
   ]
  },
  {
   "cell_type": "code",
   "execution_count": 9,
   "metadata": {
    "collapsed": false
   },
   "outputs": [
    {
     "name": "stdout",
     "output_type": "stream",
     "text": [
      "         Metodi |          # f(x) |          # iter |            Aika\n",
      "---------------------------------------------------------------------------\n",
      "    Nelder-Mead |            2000 |            1458 | 0.09391232000000001\n",
      "         Powell |            6422 |              55 | 0.2035387733333333\n",
      "      Newton-CG |              62 |              53 | 8.051857493333333\n",
      "           BFGS |              81 |              64 | 0.9962244266666662\n"
     ]
    }
   ],
   "source": [
    "fmt = \"{:>15}\"\n",
    "print(fmt.format(\"Metodi\"), \"|\", fmt.format(\"# f(x)\"), \"|\", fmt.format(\"# iter\"), \"|\", fmt.format(\"Aika\"))\n",
    "print(\"-\" * 75)\n",
    "for r in res:\n",
    "    print(fmt.format(r.method), \"|\", fmt.format(r.nfev), \"|\", fmt.format(r.nit), \"|\", fmt.format(r.runtime))"
   ]
  },
  {
   "cell_type": "markdown",
   "metadata": {},
   "source": [
    "Päätelmiä: BFGS ei suotta taida olla oletusmetodi monissa optimointikirjastoissa, sillä se tarjoaa aika hyvän kompromissin kaikilla osa-alueilla tämän testin perusteella. Newton-CG suoriutuu vähemmillä iteraatioiden ja objektifunktiokutsujen määrillä, mutta sen suoritusaika on huomattavasti heikompi kuin BFGS:n. Powell:lla sentään löydetään maaliin, mutta funktiokutsujen määrästä voi päätellä, että metodi on vaikeuksissa, jos objektifunktio on vähänkään raskaampi laskettava. Nelder-Mead ei löydä edes optimia annetuissa rajoissa; suunta on oikea, mutta konvergointi niin hidasta, ettei sovellu tämän ongelman ratkaisemiseen."
   ]
  },
  {
   "cell_type": "markdown",
   "metadata": {},
   "source": [
    "## Tehtävä 3"
   ]
  },
  {
   "cell_type": "markdown",
   "metadata": {},
   "source": [
    "Black box -tehtävässä sain vastaukseksi [1, 0, 0, 0] aloituspisteestä [0, 0, 0, 0] ja muutamalla muulla aloituspisteellä päästiin samaan tulokseen. f([1, 0, 0, 0]) = 3. Käytin lopulta penaltyfunktiota tähän, koska sillä saadaan tällaisessa black-box -tilanteessa yksinkertainen algoritmi aikaiseksi (ainakin annetuilla tiedoilla). Sakotin siis suoraan siitä tiedosta, jos ratkaisu ei ollut sallittu.\n",
    "\n",
    "Scipy.optimizen dokumentaation mukaan yritin ensin saada SLSQP:n toimimaan, koska se on niitä harvoja, jotka (ainakin dokumentaation mukaan) tukevat constraints -parametria. Tulokset olivat kuitenkin laihoja kun metodi tökkäsi aina kääntymättömään matriisiin. Tein jopa niin, että etsin optimoinnilla sallitun vastauksen aloituspisteeksi (penalty-idealla), mutta siitäkään huolimatta ei onnistanut (vaikka tämä metodi itseasiassa antoi lähtöpisteeksi optimin). Jätän myös tähän yritykseen liittyviä koodeja tähän mukaan, mutta ne eivät siis johda oikeaan tulokseen."
   ]
  },
  {
   "cell_type": "code",
   "execution_count": 10,
   "metadata": {
    "collapsed": false
   },
   "outputs": [],
   "source": [
    "import json\n",
    "import urllib\n",
    "from urllib.request import urlopen\n",
    "\n",
    "def loaddata(x):\n",
    "    params = [format(xi, '.10f') for xi in x]\n",
    "    url = \"http://mhartikainen.pythonanywhere.com/evaluate/{}/{}/{}/{}\".format(*params)\n",
    "    response = urlopen(url)\n",
    "    datastr = response.read().decode('utf-8')\n",
    "    return json.loads(datastr)"
   ]
  },
  {
   "cell_type": "code",
   "execution_count": 11,
   "metadata": {
    "collapsed": false
   },
   "outputs": [
    {
     "name": "stdout",
     "output_type": "stream",
     "text": [
      "Optimization terminated successfully.\n",
      "         Current function value: 2.999800\n",
      "         Iterations: 4\n",
      "         Function evaluations: 42\n",
      "         Gradient evaluations: 7\n",
      "Optimal x:  [  9.99900003e-01  -3.36730497e-09  -3.36730500e-09  -3.36730500e-09]\n",
      "f(x) at optimal:  2.9995999995995004\n",
      "Equality constraint values at optimal:  [0.00010000769999984893, -9.999750000000418e-05]\n",
      "Inequality constraint values at optimal:  [1.0000000068000001]\n"
     ]
    }
   ],
   "source": [
    "import numpy as np\n",
    "\n",
    "def task3_fval(data):\n",
    "    return data[\"function value\"]\n",
    "def task3_eqc(data):\n",
    "    return data[\"equality constraint values\"]\n",
    "def task3_ineqc(data):\n",
    "    return data[\"inequality constraint values\"]\n",
    "\n",
    "def task3_eqc_penalty(data):\n",
    "    eqc = task3_eqc(data)\n",
    "    return np.dot(eqc, eqc)\n",
    "def task3_ineqc_penalty(data):\n",
    "    return sum(np.power(np.minimum(task3_ineqc(data), 0), 2))\n",
    "\n",
    "def task3_penalized(x):\n",
    "    data = loaddata(x)\n",
    "    \n",
    "    fval = task3_fval(data)\n",
    "    eqc_penalty = task3_eqc_penalty(data)\n",
    "    ineqc_penalty = task3_ineqc_penalty(data)\n",
    "    r = 10000\n",
    "    \n",
    "    return fval + r * (eqc_penalty + ineqc_penalty)\n",
    "\n",
    "initial_x = [0, 0, 0, 0]\n",
    "\n",
    "result = minimize(task3_penalized, \n",
    "         initial_x, \n",
    "         method = 'BFGS',\n",
    "         options = {'disp' : True})\n",
    "\n",
    "data = loaddata(result.x)\n",
    "print(\"Optimal x: \", result.x)\n",
    "print(\"f(x) at optimal: \", task3_fval(data))\n",
    "print(\"Equality constraint values at optimal: \", task3_eqc(data))\n",
    "print(\"Inequality constraint values at optimal: \", task3_ineqc(data))"
   ]
  },
  {
   "cell_type": "code",
   "execution_count": 12,
   "metadata": {
    "collapsed": false
   },
   "outputs": [
    {
     "name": "stdout",
     "output_type": "stream",
     "text": [
      "Optimal x:  [1, 0, 0, 0]\n",
      "f(x) at optimal:  3.0\n",
      "Equality constraint values at optimal:  [0.0, 0.0]\n",
      "Inequality constraint values at optimal:  [1.0]\n"
     ]
    }
   ],
   "source": [
    "# X pyöristettynä\n",
    "\n",
    "test_x = [1, 0, 0, 0]\n",
    "data = loaddata(test_x)\n",
    "print(\"Optimal x: \", test_x)\n",
    "print(\"f(x) at optimal: \", task3_fval(data))\n",
    "print(\"Equality constraint values at optimal: \", task3_eqc(data))\n",
    "print(\"Inequality constraint values at optimal: \", task3_ineqc(data))"
   ]
  },
  {
   "cell_type": "markdown",
   "metadata": {},
   "source": [
    "##### Alla olevat eivät liity ratkaisuun ks. kommentit"
   ]
  },
  {
   "cell_type": "code",
   "execution_count": 13,
   "metadata": {
    "collapsed": false,
    "scrolled": false
   },
   "outputs": [
    {
     "name": "stdout",
     "output_type": "stream",
     "text": [
      "Feasible x:  [  9.99999911e-01  -4.12614661e-08  -4.12614661e-08  -4.02956424e-08]\n",
      "Infeasibility penalty:  5.31240099607e-14\n",
      "Equality constraint values at optimal:  [2.123999999215087e-07, -8.949999996676894e-08]\n",
      "Inequality constraint values at optimal:  [1.0000000816]\n"
     ]
    }
   ],
   "source": [
    "# Lähtöpiste SLSQP:lle - käytetään penalty-ideaa hyväksi etsiessä sallittu lähtöpiste\n",
    "\n",
    "def feasiblex_objf(x):\n",
    "    data = loaddata(x)\n",
    "    \n",
    "    eqc_penalty = task3_eqc_penalty(data)\n",
    "    ineqc_penalty = task3_ineqc_penalty(data)\n",
    "    \n",
    "    return eqc_penalty + ineqc_penalty\n",
    "\n",
    "initial_x = [0, 0, 0, 0]\n",
    "res = minimize(feasiblex_objf, initial_x, options = {'disp' : False})\n",
    "\n",
    "data = loaddata(res.x)\n",
    "print(\"Feasible x: \", res.x)\n",
    "print(\"Infeasibility penalty: \", feasiblex_objf(res.x))\n",
    "print(\"Equality constraint values at optimal: \", task3_eqc(data))\n",
    "print(\"Inequality constraint values at optimal: \", task3_ineqc(data))"
   ]
  },
  {
   "cell_type": "code",
   "execution_count": 14,
   "metadata": {
    "collapsed": false
   },
   "outputs": [
    {
     "name": "stdout",
     "output_type": "stream",
     "text": [
      "Singular matrix C in LSQ subproblem    (Exit mode 6)\n",
      "            Current function value: 3.0\n",
      "            Iterations: 1\n",
      "            Function evaluations: 1\n",
      "            Gradient evaluations: 1\n"
     ]
    },
    {
     "data": {
      "text/plain": [
       "     nit: 1\n",
       "  status: 6\n",
       "       x: array([ 1.,  0.,  0.,  0.])\n",
       " message: 'Singular matrix C in LSQ subproblem'\n",
       "    nfev: 1\n",
       "    njev: 1\n",
       "     jac: array([ 4.,  2.,  2.,  2.,  0.])\n",
       "     fun: 3.0\n",
       " success: False"
      ]
     },
     "execution_count": 14,
     "metadata": {},
     "output_type": "execute_result"
    }
   ],
   "source": [
    "def readconstraintdescription(data):\n",
    "    constraints = ()\n",
    "    \n",
    "    for index, value in enumerate(data[\"inequality constraint values\"]):\n",
    "        constraints = constraints + ({'type' : 'ineq',\\\n",
    "                         'fun' : lambda x : loaddata(x)[\"inequality constraint values\"],\\\n",
    "                         'jac' : lambda x : loaddata(x)[\"inequality constraint gradient\"]},)\n",
    "    \n",
    "    for index_eq, value in enumerate(data[\"equality constraint values\"]):\n",
    "        constraints = constraints + ({'type' : 'eq',\\\n",
    "                         'fun' : lambda x : loaddata(x)[\"equality constraint values\"][index_eq],\\\n",
    "                         'jac' : lambda x : loaddata(x)[\"equality constraint gradients\"][index_eq]},)\n",
    "    \n",
    "    return constraints\n",
    "\n",
    "initial_x = [1, 0, 0, 0]\n",
    "data = loaddata(initial_x)\n",
    "constraints = readconstraintdescription(data)\n",
    "\n",
    "minimize(lambda x : loaddata(x)[\"function value\"], \n",
    "         initial_x, \n",
    "         method = 'SLSQP',\n",
    "         jac = lambda x : loaddata(x)[\"function gradient\"],\n",
    "         constraints = constraints, \n",
    "         options = {'disp' : True})"
   ]
  },
  {
   "cell_type": "markdown",
   "metadata": {},
   "source": [
    "## Tehtävä 4"
   ]
  },
  {
   "cell_type": "markdown",
   "metadata": {},
   "source": [
    "Kyseessä on vastaava tehtävä kuin harjoituksessa 6. Molemmat optimoitavat funktiot saadaan minimoitua nollaan käyttämällä ensimmäiselle funktiolle vektoria $(1, 0)$ ja toiselle $(0, 1)$.\n",
    "\n",
    "Näiden avulla voidaan selvittää myös $z^{nadir}$, joka on käytännössä \n",
    "$$\n",
    "(\\min f_1 \\text{ s.t. } f_2(x) \\leq z_2^{ideal}, \\min f_2 \\text{ s.t. } f_1(x) \\leq z_1^{ideal})\\\\\n",
    "(\\min f_1 \\text{ s.t. } f_2(x) = 0, \\min f_2 \\text{ s.t. } f_1(x) = 0)\\\\\n",
    "(f_1((0, 1)), f_2((1, 0))) = (\\sqrt{2}, \\sqrt{2})\n",
    "$$\n",
    "\n",
    "Näin ollen \n",
    "$$z^{ideal}=(0, 0), z^{nadir}=(\\sqrt{2}, \\sqrt{2})$$"
   ]
  },
  {
   "cell_type": "code",
   "execution_count": 15,
   "metadata": {
    "collapsed": false
   },
   "outputs": [],
   "source": [
    "import matplotlib.pyplot as plt\n",
    "from math import sqrt\n",
    "\n",
    "z_ideal = [0, 0]\n",
    "z_nadir = [sqrt(2), sqrt(2)]\n",
    "\n",
    "def prob(x):\n",
    "    return [sqrt((x[0] - 1) ** 2 + x[1] ** 2), sqrt(x[0] ** 2 + (x[1] - 1) ** 2)]\n",
    "def prob_normalized(x):\n",
    "    z_ideal = [0, 0]\n",
    "    z_nadir = [sqrt(2), sqrt(2)]\n",
    "    z = prob(x) \n",
    "    return [(zi - zideali) / (znadiri - zideali) for \n",
    "            (zi, zideali, znadiri) in zip(z, z_ideal, z_nadir)]\n",
    "def plot_sols(coords, title, ind = 1):\n",
    "    fig = plt.figure(ind)\n",
    "    plt.scatter([x[0] for x in coords], [x[1] for x in coords])\n",
    "    plt.title(title)\n",
    "    plt.show()"
   ]
  },
  {
   "cell_type": "code",
   "execution_count": 16,
   "metadata": {
    "collapsed": false
   },
   "outputs": [],
   "source": [
    "import numpy as np\n",
    "from scipy.optimize import minimize\n",
    "import ad\n",
    "import pyomo.core.base.expr as pyoex\n",
    "def e_constraint_method(f,eps,z_ideal,z_nadir):\n",
    "    points = []\n",
    "    for epsi in eps:\n",
    "        ub = epsi[0] * (z_nadir[1] - z_ideal[1]) + z_ideal[1]\n",
    "            \n",
    "        model = ConcreteModel()\n",
    "        model.x = Var([0, 1])\n",
    "        model.obj = Objective(expr = pyoex.sqrt((model.x[0] - 1) ** 2 + model.x[1] ** 2))\n",
    "        model.Constraint1 = Constraint(expr = pyoex.sqrt(model.x[0] ** 2 + (model.x[1] - 1) ** 2) <= ub)\n",
    "        \n",
    "        opt = SolverFactory(\"ipopt\")\n",
    "        res = opt.solve(model)\n",
    "        points.append([model.x[0].value, model.x[1].value]) # We should check for optimality...\n",
    "    return points\n",
    "\n",
    "eps = np.random.random((100,1))\n",
    "repr = e_constraint_method(prob_normalized, eps, z_ideal, z_nadir)\n",
    "plot_sols(repr, \"Solutions in parameter space\", 1)\n",
    "\n",
    "repr_objspace = [prob(repri) for repri in repr]\n",
    "plot_sols(repr_objspace, \"Solutions in objective space\", 2)"
   ]
  },
  {
   "cell_type": "markdown",
   "metadata": {},
   "source": [
    "Käytin epsilon-constraint -metodia siten, että $f_1$ minimoitiin niin, että $f_2$ oli rajoitettu arvotulla raja-arvolla. Painotusmenetelmä ei tähän tilanteeseen sovi, sillä se löytää käytänössä ainoastaan päätypisteet. Tehtävän yksinkertaisuutta voisi tietysti hyväksikäyttää ja jakaa pisteet täysin tasavälein janalle, koska sen tiedetään sisältävän kaikki Pareto-optimaaliset ratkaisut."
   ]
  }
 ],
 "metadata": {
  "kernelspec": {
   "display_name": "Python 3",
   "language": "python",
   "name": "python3"
  },
  "language_info": {
   "codemirror_mode": {
    "name": "ipython",
    "version": 3
   },
   "file_extension": ".py",
   "mimetype": "text/x-python",
   "name": "python",
   "nbconvert_exporter": "python",
   "pygments_lexer": "ipython3",
   "version": "3.5.1"
  }
 },
 "nbformat": 4,
 "nbformat_minor": 0
}
