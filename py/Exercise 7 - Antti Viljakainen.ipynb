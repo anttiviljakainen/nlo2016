{
 "cells": [
  {
   "cell_type": "markdown",
   "metadata": {},
   "source": [
    "# Exercise 7\n",
    "* Due: 25.2.2016 at noon\n",
    "* Max points: 8"
   ]
  },
  {
   "cell_type": "markdown",
   "metadata": {},
   "source": [
    "## General rules\n",
    "* Send the source code or the written notes of your answers as an attachment to markus.hartikainen@jyu.fi before the due time\n",
    "* You will get feedback about your answers a week from the due date\n",
    "* From the second week on, the exercises will be given on the previous Wednesday's lecture"
   ]
  },
  {
   "cell_type": "markdown",
   "metadata": {},
   "source": [
    "## Exercises\n",
    "\n",
    "1. **2 points** Show\n",
    "  1. that an optimal solution to the weighting method is Pareto optimal, if the weights $w_i>0$ for all $i=1,\\ldots,k$, and\n",
    "  2. the an optimal solution $x^*$ to the epsilon constraint method is Pareto optimal, if it is an optimal solution to the epsilon constraint method for all $j=1,\\ldots,k$ and $\\epsilon=f(x^*)$.\n",
    "2. **2 points** Show that \n",
    "  1. an optimal solution to the achievement scalarizing problem is Pareto optimal, and\n",
    "  2. for all Pareto optimal solutions $x^*$ there exist a reference point such that $x^*$ is an optimal solution to the achievement scalarizing problem with $\\rho=0$ (i.e., without the augmentation term). \n",
    "3. **2 points** Think of a multiobjective optimization problem from your own life with at least three objectives. Model this problem using algebraic equations.\n",
    "4. **2 points** Use the WWW-NIMBUS software at https://wwwnimbus.it.jyu.fi/cgi-bin/N4/login.py to find preferable solutions to the problem. Analyse the results (i.e., write what you think about the solutions found)."
   ]
  },
  {
   "cell_type": "markdown",
   "metadata": {},
   "source": [
    "### Task 1"
   ]
  },
  {
   "cell_type": "code",
   "execution_count": null,
   "metadata": {
    "collapsed": true
   },
   "outputs": [],
   "source": []
  },
  {
   "cell_type": "markdown",
   "metadata": {},
   "source": [
    "### Task 2"
   ]
  },
  {
   "cell_type": "code",
   "execution_count": null,
   "metadata": {
    "collapsed": true
   },
   "outputs": [],
   "source": []
  },
  {
   "cell_type": "markdown",
   "metadata": {},
   "source": [
    "### Task 3"
   ]
  },
  {
   "cell_type": "markdown",
   "metadata": {},
   "source": [
    "Optimize\n",
    "* Maximize income\n",
    "* Maximize happiness\n",
    "* Maximize personal development\n",
    "* Use minimum amount of time working / maximize free time\n",
    "\n",
    "Lets assume we can measure everything in minutes used in a month. Now, let us come up with some variables:\n",
    "$$\n",
    "\\begin{align}\n",
    "x_1 &= \\text{time spent working on the main job (max 20 days * 8 hours * 60 mins = 9600 min)}\\\\\n",
    "x_2 &= \\text{time spent working on secondary job which might be more interesting}\\\\\n",
    "x_3 &= \\text{time spent studying in university}\\\\\n",
    "x_4 &= \\text{time spent on my own projects in the field of interest}\\\\\n",
    "x_5 &= \\text{times to go to gym (180min)}\\\\\n",
    "x_6 &= \\text{times to exercise something else (90min)}\\\\\n",
    "x_7 &= \\text{freetime}\\\\\n",
    "\\end{align}\n",
    "$$"
   ]
  },
  {
   "cell_type": "markdown",
   "metadata": {},
   "source": [
    "Income comes primarily from the main job, lets assume it's a round number 3000 a month, so per minute that would be about $0.31x_1$. Secondary job might yield less money (2000/mo) $0.21x_2$, but it may be more interesting.\n",
    "$$\n",
    "\\begin{align}\n",
    "\\text{max } & 0.31x_1 + 0.21x_2\n",
    "\\end{align}\n",
    "$$"
   ]
  },
  {
   "cell_type": "markdown",
   "metadata": {},
   "source": [
    "Happiness comes from either doing nothing (having freetime), exercise, or doing something of interest (personal development). Let's say that half of the time university increases happiness.\n",
    "$$\n",
    "\\begin{align}\n",
    "\\text{max } & \\frac12 x_3 + x_4 + 180x_5 + 90x_6 + x_7\n",
    "\\end{align}\n",
    "$$"
   ]
  },
  {
   "cell_type": "markdown",
   "metadata": {},
   "source": [
    "Personal development\n",
    "$$\n",
    "\\begin{align}\n",
    "\\text{max } & x_3 + \\frac23 x_4\n",
    "\\end{align}\n",
    "$$"
   ]
  },
  {
   "cell_type": "markdown",
   "metadata": {},
   "source": [
    "Also, maximize freetime\n",
    "\n",
    "$$\n",
    "\\begin{align}\n",
    "\\text{max } & x_7 - x_1 - x_2 - x_3 - x_4 - 180x_5 - 90x_6\n",
    "\\end{align}\n",
    "$$"
   ]
  },
  {
   "cell_type": "markdown",
   "metadata": {},
   "source": [
    "Constraints to the problem:\n",
    "$$\n",
    "\\begin{align}\n",
    "x_1 &\\leq 9600 \\text{ (max time at primary job)}\\\\\n",
    "x_1 + x_2 + x_3 + x_4 + 180x_5 + 90x_6 + x_7 &= 43200 \\text{ (min/month)}\\\\\n",
    "x_1, x_2, x_3, x_4, x_6, x_7 &\\geq 0\\\\\n",
    "x_5, x_6 &\\in \\mathbb{N}\n",
    "\\end{align}\n",
    "$$"
   ]
  },
  {
   "cell_type": "markdown",
   "metadata": {},
   "source": [
    "### Task 4"
   ]
  },
  {
   "cell_type": "markdown",
   "metadata": {},
   "source": [
    "With the equality constraint the software doesn't find any solutions so that needs to be changed to inequality constraint and also bounds need to be given for the objective functions. The initial suggested objective function values are \n",
    "$$\n",
    "\\begin{align}\n",
    "\\text{Max inc } &4168.686\\\\\n",
    "\\text{Max hap } &25794.95\\\\\n",
    "\\text{Max dev } &4158.483\\\\\n",
    "\\text{Max free } &4208.593\\\\\n",
    "\\end{align}\n",
    "$$\n",
    "and variable values\n",
    "$$\n",
    "\\begin{align}\n",
    "\\text{x1 } &= 9516.793\\\\\n",
    "\\text{x2 } &= 5802.286\\\\\n",
    "\\text{x3 } &= 4138.782\\\\\n",
    "\\text{x4 } &= 29.55126\\\\\n",
    "\\text{x5 } &= 0.0\\\\\n",
    "\\text{x6 } &= 0.0\\\\\n",
    "\\text{x7 } &= 23696.01\\\\\n",
    "\\end{align}\n",
    "$$\n",
    "\n",
    "So it's telling me not to exercise at all, work my a** off (255h/m) and study some (68h/m). :) Well, at least I'm left with some free time (395h/m). From the objective function values it seems that a lot of the time I'll be happy though and do things that contribute to my personal development.\n"
   ]
  },
  {
   "cell_type": "markdown",
   "metadata": {},
   "source": [
    "From here I did a test where I gave following lower bounds for the objective functions:\n",
    "$$\n",
    "\\begin{align}\n",
    "\\text{Max inc } &\\geq 3000\\\\\n",
    "\\text{Max hap } &\\geq 22000\\\\\n",
    "\\text{Max dev } &\\geq 3000\\\\\n",
    "\\end{align}\n",
    "$$\n",
    "in order to find more free time.\n",
    "\n",
    "Sadly, most of the new solutions have income of 0."
   ]
  },
  {
   "cell_type": "markdown",
   "metadata": {},
   "source": [
    "Conclusion: \n",
    "\n",
    "The problem formulation is quite artificial and rushed (maybe even infeasible in itself). Given bit more thought it could end up being actually more useful and informative. F.ex. there's no minimum (or penalty) for (low) income, which makes some solutions infeasible in practise while from the methods' view they are acceptable solutions. In real setting iterating and refining the problem would be needed.\n",
    "\n",
    "It was a fun testbed for interactive methods though."
   ]
  }
 ],
 "metadata": {
  "kernelspec": {
   "display_name": "Python 3",
   "language": "python",
   "name": "python3"
  },
  "language_info": {
   "codemirror_mode": {
    "name": "ipython",
    "version": 3
   },
   "file_extension": ".py",
   "mimetype": "text/x-python",
   "name": "python",
   "nbconvert_exporter": "python",
   "pygments_lexer": "ipython3",
   "version": "3.5.1"
  }
 },
 "nbformat": 4,
 "nbformat_minor": 0
}
