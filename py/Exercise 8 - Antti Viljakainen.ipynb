{
 "cells": [
  {
   "cell_type": "markdown",
   "metadata": {},
   "source": [
    "# Exercise 8\n",
    "* Due: 3.3. at noon\n",
    "* Max points: 12"
   ]
  },
  {
   "cell_type": "markdown",
   "metadata": {},
   "source": [
    "Find an applications of optimization in a scienfic paper, and replicate the results. Return a report to me by the due time.\n",
    "\n",
    "If you do not have the data or the model, then you need to come up with a mock-up data or model yourself. If you do not have the data and you cannot come with any model or data that would somehow resemble the model or the data in the paper, then you need to write a description of why this could not be done.\n",
    "\n",
    "If you want, you can apply any other optimization method than what was applied in the paper. This would actually be interesting, since then we can compare the results."
   ]
  },
  {
   "cell_type": "markdown",
   "metadata": {},
   "source": [
    "Testasin tuloksia paperista \"Solving Constrained Nonlinear Optimization Problems with Particle Swarm Optimization\" (http://citeseerx.ist.psu.edu/viewdoc/download?doi=10.1.1.14.6041&rep=rep1&type=pdf). Kaikkiaan paperissa on testattu 12 eri funktiota PSO:lla, joista valitsin muutaman testattavaksi (vastaavasti testiä voisi laajentaa lopuillekin funktioille). Samalla tuli testattua Pythonille tehdyn pyswarm -paketin käyttöä ja toimivuutta näille ongelmille.\n",
    "\n",
    "Testatut funktiot on määritelty erillisessä paperissa http://www.dmi.unict.it/mpavone/nc-cs/materiale/ec-vol4-1996.pdf, joka löytyy tutkittavan paperin viitteistä."
   ]
  },
  {
   "cell_type": "code",
   "execution_count": 1,
   "metadata": {
    "collapsed": true
   },
   "outputs": [],
   "source": [
    "from pyswarm import pso \n",
    "import random\n",
    "def ex8pso(fun, con, lb, ub, particle_vel = 1.49445, global_vel = 1.49445):\n",
    "    xopt, fopt = pso(fun, lb, ub, f_ieqcons = con, \n",
    "                     maxiter = 200, \n",
    "                     swarmsize = 20,\n",
    "                     omega = 0.5,\n",
    "                     phip = particle_vel, \n",
    "                     phig = global_vel)\n",
    "    print(\"x* =\", xopt)\n",
    "    print(\"f(x*) =\", fun(xopt))\n",
    "    print(\"g(x*) =\", con(xopt))\n",
    "    return [xopt, fopt]"
   ]
  },
  {
   "cell_type": "code",
   "execution_count": 3,
   "metadata": {
    "collapsed": false
   },
   "outputs": [
    {
     "name": "stdout",
     "output_type": "stream",
     "text": [
      "Stopping search: maximum iterations reached --> 200\n",
      "However, the optimization couldn't find a feasible design. Sorry\n",
      "x* = [  0.95561764   0.32455824   0.5857139    0.29946201   0.86358264\n",
      "   0.04334726   0.3656513    0.73342426   0.62900572   1.9249029\n",
      "  17.72111467   2.37627011   0.50544911]\n",
      "f(x*) = -21.5923959375\n",
      "g(x*) = [-12.206369324610435, 5.7200381876256117, -1.2826316107968185, 2.6161639145137965, -15.124648717893715, -17.268768855587489, -11.91792907486343, 2.3094411309448857, -0.280415878031536]\n"
     ]
    }
   ],
   "source": [
    "# G1\n",
    "def g1(x):\n",
    "    sq1 = 0\n",
    "    sq2 = 0\n",
    "    for i in range(0, 4):\n",
    "        sq1 = sq1 + x[i] ** 2\n",
    "    for i in range(4, 13):\n",
    "        sq2 = sq2 + x[i]\n",
    "    return 5 * x[0] + 5 * x[1] + 5 * x[2] + 5 * x[3] - 5 * sq1 - sq2\n",
    "\n",
    "def g1con(x):\n",
    "    return [\n",
    "        -2 * x[0] - 2 * x[1] - x[9] - x[10] + 10,\n",
    "        8 * x[0] - x[9],\n",
    "        2 * x[3] + x[5] - x[9],\n",
    "        -2 * x[0] - 2 * x[2] - x[9] - x[11] + 10,\n",
    "        8 * x[1] - x[10],\n",
    "        2 * x[5] + x[6] - x[10],\n",
    "        -2 * x[1] - 2 * x[2] - x[10] - x[11] + 10,\n",
    "        8 * x[2] - x[11],\n",
    "        2 * x[7] + x[8] - x[11]\n",
    "    ]\n",
    "g1_lb = [0] * 13\n",
    "g1_ub = [1, 1, 1, 1, 1, 1, 1, 1, 1, 100, 100, 100, 1]\n",
    "g1_opt = [1, 1, 1, 1, 1, 1, 1, 1, 1, 3, 3, 3, 1]\n",
    "\n",
    "[_,_] = ex8pso(g1, g1con, g1_lb, g1_ub)"
   ]
  },
  {
   "cell_type": "code",
   "execution_count": 4,
   "metadata": {
    "collapsed": false
   },
   "outputs": [
    {
     "name": "stdout",
     "output_type": "stream",
     "text": [
      "G3(x) = -1.0\n",
      "G3A(x) = -1.11022302463e-16\n",
      "g(x) = 1.11022302463e-16\n",
      "Stopping search: maximum iterations reached --> 200\n",
      "However, the optimization couldn't find a feasible design. Sorry\n",
      "x* = [ 0.10733566  0.21582116  0.08605044  0.07464627  0.61733035  0.57592643\n",
      "  0.61869023  0.67529748  0.67306937  0.7966022 ]\n",
      "f(x*) = 2.02683022596\n",
      "g(x*) = -1.71026621445\n",
      "G3(x) = -1.18509633695\n"
     ]
    }
   ],
   "source": [
    "# G3, muokattu\n",
    "import numpy as np\n",
    "from math import sqrt\n",
    "\n",
    "def g3(x):\n",
    "    l = len(x)\n",
    "    pr = 1\n",
    "    s = 0\n",
    "    for i in range(l):\n",
    "        pr = pr * x[i]\n",
    "        s = s + x[i] ** 2\n",
    "    return -(sqrt(l) ** (l) * pr)\n",
    "             \n",
    "def g3a(x):\n",
    "    l = len(x)\n",
    "    pr = 1\n",
    "    s = 0\n",
    "    for i in range(l):\n",
    "        pr = pr * x[i]\n",
    "        s = s + x[i] ** 2\n",
    "    return -(sqrt(l) ** (l) * pr * (1 - s))\n",
    "\n",
    "def g3acon(x):\n",
    "    s = 0\n",
    "    for i in range(len(x)):\n",
    "        s = s + x[i] ** 2        \n",
    "    return 1 - s\n",
    "\n",
    "g3_k = 10\n",
    "g3_opt = np.array([1] * g3_k) / sqrt(g3_k)\n",
    "g3_lb = [0] * g3_k\n",
    "g3_ub = [1] * g3_k\n",
    "\n",
    "print(\"G3(x) =\", g3(g3_opt))\n",
    "print(\"G3A(x) =\", g3a(g3_opt))\n",
    "print(\"g(x) =\", g3acon(g3_opt))\n",
    "\n",
    "[xopt, fopt] = ex8pso(g3a, g3acon, g3_lb, g3_ub)\n",
    "print(\"G3(x) =\", g3(xopt))"
   ]
  },
  {
   "cell_type": "code",
   "execution_count": 5,
   "metadata": {
    "collapsed": false
   },
   "outputs": [
    {
     "name": "stdout",
     "output_type": "stream",
     "text": [
      "Stopping search: maximum iterations reached --> 200\n",
      "x* = [ 78.          38.17350649  29.56349024  44.99266063  37.88655765]\n",
      "f(x*) = -30730.9156948\n",
      "g(x*) = [91.99995308284943, 11.652459803787011, 5.0042559607277326e-07, 4.691715056992507e-05, 8.3475401962129894, 4.9999994995744039]\n"
     ]
    }
   ],
   "source": [
    "# G4\n",
    "def g4(x):\n",
    "    return 5.3578547 * x[2] ** 2 + 0.8356891 * x[0] * x[4] + 37.293239 * x[0] - 40792.141\n",
    "\n",
    "def g4con(x):\n",
    "    ieq1 = 85.334407 + 0.0056858 * x[1] * x[4] + 0.00026 * x[0] * x[3] - 0.0022053 * x[2] * x[4]\n",
    "    ieq2 = 80.51249 + 0.0071317 * x[1] * x[4] + 0.0029955 * x[0] * x[1] + 0.0021813 * x[2] ** 2\n",
    "    ieq3 = 9.300961 + 0.0047026 * x[2] * x[4] + 0.0012547 * x[0] * x[2] + 0.0019085 * x[2] * x[3]\n",
    "    \n",
    "    return [ieq1, ieq2 - 90, ieq3 - 20, 92 - ieq1, 110 - ieq2, 25 - ieq3]\n",
    "\n",
    "g4_lb = [78, 33, 27, 27, 27]\n",
    "g4_ub = [102, 45, 45, 45, 45]\n",
    "g4_opt = [78, 33, 29.995, 45, 36.776]\n",
    "\n",
    "#ex8pso(g4, g4con, g4_lb, g4_ub, particle_vel = 0.5, global_vel = 0.5)\n",
    "[_,_] = ex8pso(g4, g4con, g4_lb, g4_ub)"
   ]
  },
  {
   "cell_type": "code",
   "execution_count": 6,
   "metadata": {
    "collapsed": false
   },
   "outputs": [
    {
     "name": "stdout",
     "output_type": "stream",
     "text": [
      "Stopping search: maximum iterations reached --> 200\n",
      "However, the optimization couldn't find a feasible design. Sorry\n",
      "x* = [ 53.05015532  41.25415424]\n",
      "f(x*) = 89386.8681388\n",
      "g(x*) = [3523.181126536279, -3445.2708158897121]\n"
     ]
    }
   ],
   "source": [
    "# G6\n",
    "def g6(x):\n",
    "    return (x[0] - 10) ** 3 + (x[1] - 20) ** 3\n",
    "\n",
    "def g6con(x):\n",
    "    return [(x[0] - 5) ** 2 + (x[1] - 5) ** 2 - 100,\n",
    "           -(x[0] - 6) ** 2 - (x[1] - 5) ** 2 + 82.81]\n",
    "\n",
    "g6_lb = [13, 0]\n",
    "g6_ub = [100, 100]\n",
    "g6_opt = [14.095, 0.84296]\n",
    "\n",
    "[_,_] = ex8pso(g6, g6con, g6_lb, g6_ub)"
   ]
  },
  {
   "cell_type": "markdown",
   "metadata": {},
   "source": [
    "Huomioita\n",
    "\n",
    "- Pyswarmin oletusparametrit 0.5 globaalin ja partikkelin oman parhaan huomioimiselle tuntuvat hieman erikoisilta verraten esim paperissa esitettyyn ja matlabin kirjastojen oletusarvoon 1.49, toki ratkaisuja löytyy niinkin, mutta oletusparametrit viittaavat enemmän \"lokaaliin konvergointiin\" laajenevan haun sijaan \n",
    "- Annetuilla parametreilla on yllättävän vaikeaa saada rajoitteiden sallimia tuloksia joten useimmat ajot päättyvätkin ilmoitukseen, ettei sallittuja ratkaisuja löytynyt. Osatekijänä on varmasti se, että annetut funktiot ovat luonteeltaan monimutkaisia, mutta paperista saa helposti sen kuvan, että ratkaisut löytyvät helposti samoja parametreja käyttäen. Voi toki myös olla, että ongelma on pyswarmin toteutuksessa, sillä paperissa viitataan, että aloituspisteiden pitäisi olla sallittuja, ongelmien määrä viittaa hieman siihen, että näin ei välttämättä toteutuksessa ole.\n",
    "- Ainut luotettavasti toimiva optimointitehtävä oli G4, G1 sanottiinkin olevan taipuvainen juuttumaan lokaaleihin minimeihin ja muiden kanssa sallittuja arvoja tuli vain satunnaisesti.\n",
    "- Tutkimista pitäisi jatkaa, miksi tulosten saaminen on näin vaikeaa, tarkistettavia seikkoja olisivat ainakin\n",
    "    * Hakeeko pyswarmin toteutus sallitut aloituspisteet\n",
    "    * Onko testattavat funktiomäärittelyt varmasti oikein (typot yms)\n",
    "\n"
   ]
  },
  {
   "cell_type": "code",
   "execution_count": null,
   "metadata": {
    "collapsed": true
   },
   "outputs": [],
   "source": []
  }
 ],
 "metadata": {
  "kernelspec": {
   "display_name": "Python 3",
   "language": "python",
   "name": "python3"
  },
  "language_info": {
   "codemirror_mode": {
    "name": "ipython",
    "version": 3
   },
   "file_extension": ".py",
   "mimetype": "text/x-python",
   "name": "python",
   "nbconvert_exporter": "python",
   "pygments_lexer": "ipython3",
   "version": "3.5.1"
  }
 },
 "nbformat": 4,
 "nbformat_minor": 0
}
